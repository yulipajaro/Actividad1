{
 "cells": [
  {
   "cell_type": "code",
   "execution_count": null,
   "metadata": {},
   "outputs": [],
   "source": []
  },
  {
   "cell_type": "code",
   "execution_count": null,
   "metadata": {},
   "outputs": [],
   "source": [
    "manzana: int = 5\n",
    "print(manzana)\n",
    "manzana: float = 5.5\n",
    "print(manzana)\n",
    "manzana: str = \"Compré 5 manzanas\"\n",
    "print(manzana)\n",
    "manzana: bool = True\n",
    "print(manzana)"
   ]
  },
  {
   "cell_type": "code",
   "execution_count": null,
   "metadata": {},
   "outputs": [],
   "source": [
    "bienes_dian: dict = {\n",
    "    \"casa\": 1,\n",
    "    \"perro\": 2,\n",
    "}\n",
    "\n",
    "lista_compra: list = [\"leche\", \"pan\", \"huevos\"]\n",
    "\n",
    "tuplas: tuple = (1, 2, 3)"
   ]
  },
  {
   "cell_type": "code",
   "execution_count": 1,
   "metadata": {},
   "outputs": [],
   "source": [
    "def send_email(to: str, body: str) -> None:\n",
    "    print(f\"Sending email to {to} with body {body}\")"
   ]
  },
  {
   "cell_type": "code",
   "execution_count": 4,
   "metadata": {},
   "outputs": [
    {
     "name": "stdout",
     "output_type": "stream",
     "text": [
      "LLamando 123\n"
     ]
    }
   ],
   "source": [
    "def llamar_policia():\n",
    "    print(\"LLamando 123\")\n",
    "\n",
    "llamar_policia()"
   ]
  },
  {
   "cell_type": "code",
   "execution_count": 2,
   "metadata": {},
   "outputs": [
    {
     "name": "stdout",
     "output_type": "stream",
     "text": [
      "Creó usuario\n",
      "Sending email to fake@gmail.com with body Hola, soy un correo falso\n",
      "Olvidó contraseña\n",
      "Sending email to fake@gmail.com with body Hola, olvidaste tu contraseña\n"
     ]
    }
   ],
   "source": [
    "print(\"Creó usuario\")\n",
    "user = \"fake@gmail.com\"\n",
    "body = \"Hola, soy un correo falso\"\n",
    "send_email(to=user, body=body)\n",
    "\n",
    "print(\"Olvidó contraseña\")\n",
    "body = \"Hola, olvidaste tu contraseña\"\n",
    "send_email(to=user, body=body)"
   ]
  },
  {
   "cell_type": "code",
   "execution_count": 7,
   "metadata": {},
   "outputs": [],
   "source": [
    "class Cat:\n",
    "    def __init__(self, name: str, gender: str, age: int, weight: float, color: str) -> None:\n",
    "        self.name = name\n",
    "        self.gender = gender\n",
    "        self.age = age\n",
    "        self.weight = weight\n",
    "        self.color = color\n",
    "\n",
    "    def breathe(self) -> None:\n",
    "        print(\"Estoy respirando\")"
   ]
  },
  {
   "cell_type": "code",
   "execution_count": 11,
   "metadata": {},
   "outputs": [
    {
     "name": "stdout",
     "output_type": "stream",
     "text": [
      "Paco\n",
      "Estoy respirando\n"
     ]
    }
   ],
   "source": [
    "gato_paco = Cat(name=\"Paco\", gender=\"Macho\", age=2, weight=\"5.5\", color=\"negro\")\n",
    "print(gato_paco.name)\n",
    "gato_paco.breathe()"
   ]
  },
  {
   "cell_type": "code",
   "execution_count": 12,
   "metadata": {},
   "outputs": [
    {
     "name": "stdout",
     "output_type": "stream",
     "text": [
      "Lulu\n",
      "Estoy respirando\n"
     ]
    }
   ],
   "source": [
    "gato_lulu = Cat(name=\"Lulu\", gender=\"Hembra\", age=2, weight=\"5.5\", color=\"negro\")\n",
    "print(gato_lulu.name)\n",
    "gato_lulu.breathe()"
   ]
  }
 ],
 "metadata": {
  "kernelspec": {
   "display_name": ".venv",
   "language": "python",
   "name": "python3"
  },
  "language_info": {
   "codemirror_mode": {
    "name": "ipython",
    "version": 3
   },
   "file_extension": ".py",
   "mimetype": "text/x-python",
   "name": "python",
   "nbconvert_exporter": "python",
   "pygments_lexer": "ipython3",
   "version": "3.11.7"
  }
 },
 "nbformat": 4,
 "nbformat_minor": 2
}
