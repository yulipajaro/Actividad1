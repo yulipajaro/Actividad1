{
 "cells": [
  {
   "cell_type": "markdown",
   "metadata": {},
   "source": [
    "# Abstracción"
   ]
  },
  {
   "cell_type": "markdown",
   "metadata": {},
   "source": [
    "## Simulación de vuelo"
   ]
  },
  {
   "cell_type": "code",
   "execution_count": 1,
   "metadata": {},
   "outputs": [],
   "source": [
    "class AirPlane:\n",
    "    def __init__(self, speed: int, altitude: int, roll_angle: int, pitch_angle: int, yaw_angle: int) -> None:\n",
    "        self.speed = speed\n",
    "        self.altitude = altitude\n",
    "        self.roll_angle = roll_angle\n",
    "        self.pitch_angle = pitch_angle\n",
    "        self.yaw_angle = yaw_angle\n",
    "\n",
    "    def fly(self) -> None:\n",
    "        print(f\"Airplane is flying at {self.speed} km/h\")\n",
    "\n",
    "    def __str__(self) -> str:\n",
    "        return f\"{self.speed} km/h, {self.altitude} m, {self.roll_angle}°, {self.pitch_angle}°, {self.yaw_angle}°\""
   ]
  },
  {
   "cell_type": "code",
   "execution_count": 3,
   "metadata": {},
   "outputs": [
    {
     "name": "stdout",
     "output_type": "stream",
     "text": [
      "900 km/h, 10000 m, 0°, 0°, 0°\n",
      "Airplane is flying at 900 km/h\n"
     ]
    },
    {
     "ename": "AttributeError",
     "evalue": "'AirPlane' object has no attribute 'samu'",
     "output_type": "error",
     "traceback": [
      "\u001b[0;31m---------------------------------------------------------------------------\u001b[0m",
      "\u001b[0;31mAttributeError\u001b[0m                            Traceback (most recent call last)",
      "Cell \u001b[0;32mIn[3], line 4\u001b[0m\n\u001b[1;32m      2\u001b[0m \u001b[38;5;28mprint\u001b[39m(air_plane)\n\u001b[1;32m      3\u001b[0m air_plane\u001b[38;5;241m.\u001b[39mfly()\n\u001b[0;32m----> 4\u001b[0m \u001b[43mair_plane\u001b[49m\u001b[38;5;241;43m.\u001b[39;49m\u001b[43msamu\u001b[49m()\n",
      "\u001b[0;31mAttributeError\u001b[0m: 'AirPlane' object has no attribute 'samu'"
     ]
    }
   ],
   "source": [
    "air_plane = AirPlane(speed=900, altitude=10000, roll_angle=0, pitch_angle=0, yaw_angle=0)\n",
    "print(air_plane)\n",
    "air_plane.fly()\n",
    "air_plane.samu()"
   ]
  },
  {
   "cell_type": "markdown",
   "metadata": {},
   "source": [
    "## Reserva de vuelo"
   ]
  },
  {
   "cell_type": "code",
   "execution_count": 3,
   "metadata": {},
   "outputs": [],
   "source": [
    "class AirPlane:\n",
    "    def __init__(self, seats: int) -> None:\n",
    "        self.seats = seats\n",
    "\n",
    "    def reserve_seat(self, seat_number: int) -> None:\n",
    "        print(f\"Seat number {seat_number} is reserved\")\n",
    "\n",
    "    def __str__(self) -> str:\n",
    "        return f\"{self.seats} seats\""
   ]
  },
  {
   "cell_type": "code",
   "execution_count": 4,
   "metadata": {},
   "outputs": [
    {
     "name": "stdout",
     "output_type": "stream",
     "text": [
      "150 seats\n",
      "Seat number 10 is reserved\n"
     ]
    }
   ],
   "source": [
    "air_plane = AirPlane(seats=150)\n",
    "print(air_plane)\n",
    "air_plane.reserve_seat(10)"
   ]
  }
 ],
 "metadata": {
  "kernelspec": {
   "display_name": ".venv",
   "language": "python",
   "name": "python3"
  },
  "language_info": {
   "codemirror_mode": {
    "name": "ipython",
    "version": 3
   },
   "file_extension": ".py",
   "mimetype": "text/x-python",
   "name": "python",
   "nbconvert_exporter": "python",
   "pygments_lexer": "ipython3",
   "version": "3.11.7"
  }
 },
 "nbformat": 4,
 "nbformat_minor": 2
}
