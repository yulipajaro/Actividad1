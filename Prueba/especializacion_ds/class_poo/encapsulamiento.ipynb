{
 "cells": [
  {
   "cell_type": "markdown",
   "metadata": {},
   "source": [
    "# Encapsulamiento\n",
    "- Hace referencia al ocultamiento de los estado internos de una clase al exterior.\n",
    "- Encapsular consiste en hacer que los atributos o métodos internos a una clase no se puedan acceder ni modificar desde fuera, sino que tan solo el propio objeto pueda acceder a ellos.\n",
    "- Para la gente que conozca Java, le resultará un termino muy familiar, pero en Python es algo distinto. Python por defecto no oculta los atributos y métodos de una clase al exterior."
   ]
  },
  {
   "cell_type": "code",
   "execution_count": 1,
   "metadata": {},
   "outputs": [],
   "source": [
    "class Clase:\n",
    "    atributo_clase = \"Hola\"\n",
    "\n",
    "    def __init__(self, atributo_instancia):\n",
    "        self.atributo_instancia = atributo_instancia"
   ]
  },
  {
   "cell_type": "code",
   "execution_count": 3,
   "metadata": {},
   "outputs": [
    {
     "name": "stdout",
     "output_type": "stream",
     "text": [
      "Atributo de clase: Hola\n",
      "Atributo de instancia: Que tal\n"
     ]
    }
   ],
   "source": [
    "mi_clase = Clase(\"Que tal\")\n",
    "print(\"Atributo de clase:\", mi_clase.atributo_clase)\n",
    "print(\"Atributo de instancia:\", mi_clase.atributo_instancia)"
   ]
  },
  {
   "cell_type": "markdown",
   "metadata": {},
   "source": [
    "- Como pudimos ver, en Python no existe el concepto de variables privadas o protegidas como en otros lenguajes de programación. En Python, todos los atributos y métodos de una clase son accesibles desde el exterior. Sin embargo esto es algo que tal vez no queramos.\n",
    "- Hay ciertos métodos o atributos que queremos que pertenezcan sólo a la clase o al objeto, y que sólo puedan ser accedidos por los mismos. Para ello podemos usar doble guión bajo `__` para nombrar a un atributo o método. Esto hará que Python los interprete como “privados”, de manera que no podrán ser accedidos desde el exterior."
   ]
  },
  {
   "cell_type": "code",
   "execution_count": 4,
   "metadata": {},
   "outputs": [],
   "source": [
    "class Clase:\n",
    "    atributo_clase = \"Hola\"  # Accesible desde el exterior\n",
    "    __atributo_clase = \"Hola\"  # No accesible\n",
    "\n",
    "    # No accesible desde el exterior\n",
    "    def __mi_metodo(self) -> None:\n",
    "        print(\"Haz algo\")\n",
    "        self.__variable = 0\n",
    "\n",
    "    # Accesible desde el exterior\n",
    "    def metodo_normal(self) -> None:\n",
    "        # El método si es accesible desde el interior\n",
    "        self.__mi_metodo()"
   ]
  },
  {
   "cell_type": "code",
   "execution_count": 5,
   "metadata": {},
   "outputs": [
    {
     "ename": "AttributeError",
     "evalue": "'Clase' object has no attribute '__atributo_clase'",
     "output_type": "error",
     "traceback": [
      "\u001b[0;31m---------------------------------------------------------------------------\u001b[0m",
      "\u001b[0;31mAttributeError\u001b[0m                            Traceback (most recent call last)",
      "Cell \u001b[0;32mIn[5], line 2\u001b[0m\n\u001b[1;32m      1\u001b[0m mi_clase \u001b[38;5;241m=\u001b[39m Clase()\n\u001b[0;32m----> 2\u001b[0m \u001b[43mmi_clase\u001b[49m\u001b[38;5;241;43m.\u001b[39;49m\u001b[43m__atributo_clase\u001b[49m  \u001b[38;5;66;03m# Error! El atributo no es accesible\u001b[39;00m\n\u001b[1;32m      3\u001b[0m mi_clase\u001b[38;5;241m.\u001b[39m__mi_metodo()  \u001b[38;5;66;03m# Error! El método no es accesible\u001b[39;00m\n",
      "\u001b[0;31mAttributeError\u001b[0m: 'Clase' object has no attribute '__atributo_clase'"
     ]
    }
   ],
   "source": [
    "mi_clase = Clase()\n",
    "mi_clase.__atributo_clase  # Error! El atributo no es accesible"
   ]
  },
  {
   "cell_type": "code",
   "execution_count": 6,
   "metadata": {},
   "outputs": [
    {
     "ename": "AttributeError",
     "evalue": "'Clase' object has no attribute '__mi_metodo'",
     "output_type": "error",
     "traceback": [
      "\u001b[0;31m---------------------------------------------------------------------------\u001b[0m",
      "\u001b[0;31mAttributeError\u001b[0m                            Traceback (most recent call last)",
      "Cell \u001b[0;32mIn[6], line 1\u001b[0m\n\u001b[0;32m----> 1\u001b[0m \u001b[43mmi_clase\u001b[49m\u001b[38;5;241;43m.\u001b[39;49m\u001b[43m__mi_metodo\u001b[49m()  \u001b[38;5;66;03m# Error! El método no es accesible\u001b[39;00m\n",
      "\u001b[0;31mAttributeError\u001b[0m: 'Clase' object has no attribute '__mi_metodo'"
     ]
    }
   ],
   "source": [
    "mi_clase.__mi_metodo()  # Error! El método no es accesible"
   ]
  },
  {
   "cell_type": "code",
   "execution_count": 7,
   "metadata": {},
   "outputs": [
    {
     "name": "stdout",
     "output_type": "stream",
     "text": [
      "Haz algo\n"
     ]
    }
   ],
   "source": [
    "mi_clase.atributo_clase     # Ok!\n",
    "mi_clase.metodo_normal()    # Ok!"
   ]
  },
  {
   "cell_type": "markdown",
   "metadata": {},
   "source": [
    "Y como curiosidad, podemos hacer uso de `dir` para ver el listado de métodos y atributos de nuestra clase. Podemos ver claramente como tenemos el metodo_normal y el atributo de clase, pero no podemos encontrar `__mi_metodo` ni `__atributo_clase`."
   ]
  },
  {
   "cell_type": "code",
   "execution_count": 9,
   "metadata": {},
   "outputs": [
    {
     "name": "stdout",
     "output_type": "stream",
     "text": [
      "['_Clase__atributo_clase', '_Clase__mi_metodo', '_Clase__variable', '__class__', '__delattr__', '__dict__', '__dir__', '__doc__', '__eq__', '__format__', '__ge__', '__getattribute__', '__getstate__', '__gt__', '__hash__', '__init__', '__init_subclass__', '__le__', '__lt__', '__module__', '__ne__', '__new__', '__reduce__', '__reduce_ex__', '__repr__', '__setattr__', '__sizeof__', '__str__', '__subclasshook__', '__weakref__', 'atributo_clase', 'metodo_normal']\n"
     ]
    }
   ],
   "source": [
    "print(dir(mi_clase))"
   ]
  },
  {
   "cell_type": "markdown",
   "metadata": {},
   "source": [
    "Pues bien, en realidad si que podríamos acceder a `__atributo_clase` y a `__mi_metodo` haciendo un poco de trampa. Aunque no se vea a simple vista, si que están pero con un nombre distinto, para de alguna manera ocultarlos y evitar su uso. **Pero podemos llamarlos de la siguiente manera, pero por lo general no es una buena idea.**"
   ]
  },
  {
   "cell_type": "code",
   "execution_count": 11,
   "metadata": {},
   "outputs": [
    {
     "name": "stdout",
     "output_type": "stream",
     "text": [
      "Hola\n",
      "Haz algo\n"
     ]
    }
   ],
   "source": [
    "print(mi_clase._Clase__atributo_clase)\n",
    "mi_clase._Clase__mi_metodo()"
   ]
  },
  {
   "cell_type": "markdown",
   "metadata": {},
   "source": [
    "## Ejemplo diapositivas\n",
    "\n",
    "- La interfaz `FlyingTransport` define un método `fly(origin, destination, passengers)`. Este método es abstracto, lo que significa que no tiene una implementación por defecto y debe ser implementado por cualquier clase que implemente esta interfaz.\n",
    "- La clase `Airport` tiene un método `accept(vehicle: FlyingTransport)` que indica que el aeropuerto solo acepta objetos que implementan la interfaz `FlyingTransport`. Esto es un ejemplo de polimorfismo, un concepto clave en la programación orientada a objetos, donde un objeto puede tomar muchas formas.\n",
    "- Las clases `Helicopter`, `Airplane`, y `Domesticated Gryphon` implementan la interfaz `FlyingTransport`, lo que significa que cada una de estas clases debe tener su propia implementación del método `fly(origin, destination, passengers)`."
   ]
  },
  {
   "cell_type": "code",
   "execution_count": 17,
   "metadata": {},
   "outputs": [],
   "source": [
    "from abc import ABC, abstractmethod\n",
    "\n",
    "\n",
    "class FlyingTransport(ABC):\n",
    "    @abstractmethod\n",
    "    def fly(self, origin: str, destination: str, passengers: int) -> None:\n",
    "        pass\n",
    "\n",
    "\n",
    "class Helicopter(FlyingTransport):\n",
    "    def fly(self, origin: str, destination: str, passengers: int) -> None:\n",
    "        pass\n",
    "        print(f\"Helicóptero volando de {origin} a {destination} con {passengers} pasajeros.\")\n",
    "\n",
    "\n",
    "class Airplane(FlyingTransport):\n",
    "    def fly(self, origin: str, destination: str, passengers: int) -> None:\n",
    "        print(f\"Avión volando de {origin} a {destination} con {passengers} pasajeros.\")\n",
    "\n",
    "\n",
    "class DomesticatedGryphon(FlyingTransport):\n",
    "    def fly(self, origin: str, destination: str, passengers: int) -> None:\n",
    "        print(f\"Grifo domesticado volando de {origin} a {destination} con {passengers} pasajeros.\")\n",
    "\n",
    "\n",
    "class Airport:\n",
    "    def accept(self, vehicle: FlyingTransport) -> None:\n",
    "        vehicle.fly(\"origen\", \"destino\", 100)"
   ]
  },
  {
   "cell_type": "markdown",
   "metadata": {},
   "source": [
    "En el contexto de la programación orientada a objetos, el encapsulamiento se refiere a la idea de que los detalles de cómo se implementa una clase o un método deben estar ocultos, y sólo se debe exponer una interfaz para interactuar con esa clase o método. En este caso, cada clase (Helicopter, Airplane, DomesticatedGryphon) tiene su propia implementación del método fly(), pero estos detalles están “encapsulados” dentro de cada clase.\n",
    "Cuando decimos que los detalles de cómo se implementa el método fly() están ocultos, nos referimos a que desde el punto de vista de la clase Airport, no importa cómo cada clase implemente el método fly(). Todo lo que Airport necesita saber es que puede llamar al método fly() en cualquier objeto que implemente la interfaz FlyingTransport. Los detalles específicos de cómo cada clase implementa el método fly() están ocultos para Airport."
   ]
  },
  {
   "cell_type": "markdown",
   "metadata": {},
   "source": [
    "Cada tipo de vehículo aéreo tiene su propia implementación del método fly(), pero todos son aceptados por la clase Airport gracias al polimorfismo. Esto permite cambiar la implementación del método fly() en cada clase sin afectar la funcionalidad de la clase Airport. Esto es un ejemplo de encapsulamiento, otro concepto clave en la programación orientada a objetos, donde los detalles de implementación están ocultos y solo se expone la interfaz necesaria para interactuar con la clase.\n",
    "Este es un principio fundamental de la programación orientada a objetos que se refiere a la agrupación de datos relacionados y funciones que operan en esos datos dentro de una sola unidad, que en este caso son las clases Helicopter, Airplane, y DomesticatedGryphon. Cada una de estas clases tiene su propia implementación del método fly(), que está “encapsulado” dentro de la clase. Esto significa que los detalles de cómo cada clase implementa este método están ocultos para el resto del programa. Por ejemplo, la clase Airport puede llamar al método fly() en cualquier objeto que implemente la interfaz FlyingTransport, pero no necesita saber los detalles de cómo ese método está implementado."
   ]
  },
  {
   "cell_type": "code",
   "execution_count": 18,
   "metadata": {},
   "outputs": [
    {
     "name": "stdout",
     "output_type": "stream",
     "text": [
      "None\n",
      "Avión volando de origen a destino con 100 pasajeros.\n",
      "None\n",
      "Grifo domesticado volando de origen a destino con 100 pasajeros.\n",
      "None\n"
     ]
    }
   ],
   "source": [
    "# Create an instance of Airport\n",
    "airport = Airport()\n",
    "\n",
    "# Create instances of Helicopter, Airplane, and DomesticatedGryphon\n",
    "helicopter = Helicopter()\n",
    "airplane = Airplane()\n",
    "gryphon = DomesticatedGryphon()\n",
    "\n",
    "# Use the airport to accept each flying transport and print the result\n",
    "print(airport.accept(helicopter))\n",
    "print(airport.accept(airplane))\n",
    "print(airport.accept(gryphon))"
   ]
  },
  {
   "cell_type": "markdown",
   "metadata": {},
   "source": [
    "Si intentas pasar un objeto de una clase que no implementa la interfaz FlyingTransport al método accept() de la clase Airport, Python lanzará un error. Esto se debe a que el método accept() espera un objeto que implemente la interfaz FlyingTransport, es decir, un objeto que tenga un método fly()"
   ]
  },
  {
   "cell_type": "code",
   "execution_count": 19,
   "metadata": {},
   "outputs": [
    {
     "ename": "AttributeError",
     "evalue": "'Car' object has no attribute 'fly'",
     "output_type": "error",
     "traceback": [
      "\u001b[0;31m---------------------------------------------------------------------------\u001b[0m",
      "\u001b[0;31mAttributeError\u001b[0m                            Traceback (most recent call last)",
      "Cell \u001b[0;32mIn[19], line 10\u001b[0m\n\u001b[1;32m      7\u001b[0m car \u001b[38;5;241m=\u001b[39m Car()\n\u001b[1;32m      9\u001b[0m \u001b[38;5;66;03m# This will raise an error because Car does not implement FlyingTransport\u001b[39;00m\n\u001b[0;32m---> 10\u001b[0m \u001b[38;5;28mprint\u001b[39m(\u001b[43mairport\u001b[49m\u001b[38;5;241;43m.\u001b[39;49m\u001b[43maccept\u001b[49m\u001b[43m(\u001b[49m\u001b[43mcar\u001b[49m\u001b[43m)\u001b[49m)\n",
      "Cell \u001b[0;32mIn[17], line 28\u001b[0m, in \u001b[0;36mAirport.accept\u001b[0;34m(self, vehicle)\u001b[0m\n\u001b[1;32m     27\u001b[0m \u001b[38;5;28;01mdef\u001b[39;00m \u001b[38;5;21maccept\u001b[39m(\u001b[38;5;28mself\u001b[39m, vehicle: FlyingTransport) \u001b[38;5;241m-\u001b[39m\u001b[38;5;241m>\u001b[39m \u001b[38;5;28;01mNone\u001b[39;00m:\n\u001b[0;32m---> 28\u001b[0m     \u001b[43mvehicle\u001b[49m\u001b[38;5;241;43m.\u001b[39;49m\u001b[43mfly\u001b[49m(\u001b[38;5;124m\"\u001b[39m\u001b[38;5;124morigen\u001b[39m\u001b[38;5;124m\"\u001b[39m, \u001b[38;5;124m\"\u001b[39m\u001b[38;5;124mdestino\u001b[39m\u001b[38;5;124m\"\u001b[39m, \u001b[38;5;241m100\u001b[39m)\n",
      "\u001b[0;31mAttributeError\u001b[0m: 'Car' object has no attribute 'fly'"
     ]
    }
   ],
   "source": [
    "class Car:\n",
    "    def drive(self, origin: str, destination: str):\n",
    "        return f\"Coche conduciendo de {origin} a {destination}.\"\n",
    "\n",
    "\n",
    "# Create an instance of Car\n",
    "car = Car()\n",
    "\n",
    "# This will raise an error because Car does not implement FlyingTransport\n",
    "print(airport.accept(car))"
   ]
  },
  {
   "cell_type": "code",
   "execution_count": 20,
   "metadata": {},
   "outputs": [
    {
     "ename": "TypeError",
     "evalue": "Car.fly() takes 3 positional arguments but 4 were given",
     "output_type": "error",
     "traceback": [
      "\u001b[0;31m---------------------------------------------------------------------------\u001b[0m",
      "\u001b[0;31mTypeError\u001b[0m                                 Traceback (most recent call last)",
      "Cell \u001b[0;32mIn[20], line 10\u001b[0m\n\u001b[1;32m      7\u001b[0m car \u001b[38;5;241m=\u001b[39m Car()\n\u001b[1;32m      9\u001b[0m \u001b[38;5;66;03m# This will raise an error because Car does not implement FlyingTransport\u001b[39;00m\n\u001b[0;32m---> 10\u001b[0m \u001b[38;5;28mprint\u001b[39m(\u001b[43mairport\u001b[49m\u001b[38;5;241;43m.\u001b[39;49m\u001b[43maccept\u001b[49m\u001b[43m(\u001b[49m\u001b[43mcar\u001b[49m\u001b[43m)\u001b[49m)\n",
      "Cell \u001b[0;32mIn[17], line 28\u001b[0m, in \u001b[0;36mAirport.accept\u001b[0;34m(self, vehicle)\u001b[0m\n\u001b[1;32m     27\u001b[0m \u001b[38;5;28;01mdef\u001b[39;00m \u001b[38;5;21maccept\u001b[39m(\u001b[38;5;28mself\u001b[39m, vehicle: FlyingTransport) \u001b[38;5;241m-\u001b[39m\u001b[38;5;241m>\u001b[39m \u001b[38;5;28;01mNone\u001b[39;00m:\n\u001b[0;32m---> 28\u001b[0m     \u001b[43mvehicle\u001b[49m\u001b[38;5;241;43m.\u001b[39;49m\u001b[43mfly\u001b[49m\u001b[43m(\u001b[49m\u001b[38;5;124;43m\"\u001b[39;49m\u001b[38;5;124;43morigen\u001b[39;49m\u001b[38;5;124;43m\"\u001b[39;49m\u001b[43m,\u001b[49m\u001b[43m \u001b[49m\u001b[38;5;124;43m\"\u001b[39;49m\u001b[38;5;124;43mdestino\u001b[39;49m\u001b[38;5;124;43m\"\u001b[39;49m\u001b[43m,\u001b[49m\u001b[43m \u001b[49m\u001b[38;5;241;43m100\u001b[39;49m\u001b[43m)\u001b[49m\n",
      "\u001b[0;31mTypeError\u001b[0m: Car.fly() takes 3 positional arguments but 4 were given"
     ]
    }
   ],
   "source": [
    "class Car:\n",
    "    def fly(self, origin: str, destination: str) -> None:\n",
    "        print(f\"Coche volando de {origin} a {destination}.\")\n",
    "\n",
    "\n",
    "# Create an instance of Car\n",
    "car = Car()\n",
    "\n",
    "# This will raise an error because Car does not implement FlyingTransport\n",
    "print(airport.accept(car))"
   ]
  }
 ],
 "metadata": {
  "kernelspec": {
   "display_name": ".venv",
   "language": "python",
   "name": "python3"
  },
  "language_info": {
   "codemirror_mode": {
    "name": "ipython",
    "version": 3
   },
   "file_extension": ".py",
   "mimetype": "text/x-python",
   "name": "python",
   "nbconvert_exporter": "python",
   "pygments_lexer": "ipython3",
   "version": "3.11.7"
  }
 },
 "nbformat": 4,
 "nbformat_minor": 2
}
