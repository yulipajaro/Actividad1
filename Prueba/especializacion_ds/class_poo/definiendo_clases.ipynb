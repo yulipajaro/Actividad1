{
 "cells": [
  {
   "cell_type": "markdown",
   "metadata": {},
   "source": [
    "# Definiendo clases en python\n"
   ]
  },
  {
   "cell_type": "markdown",
   "metadata": {},
   "source": [
    "Se trata de una clase vacía y sin mucha utilidad práctica, pero es la mínima clase que podemos crear.\n",
    "Nótese el uso del pass que no hace realmente nada, pero daría un error si después de los : no tenemos contenido.\n"
   ]
  },
  {
   "cell_type": "code",
   "execution_count": 3,
   "metadata": {},
   "outputs": [
    {
     "data": {
      "text/plain": [
       "__main__.Perro"
      ]
     },
     "execution_count": 3,
     "metadata": {},
     "output_type": "execute_result"
    }
   ],
   "source": [
    "# Creando una clase vacía\n",
    "class Perro:\n",
    "    pass\n",
    "\n",
    "\n",
    "# Creamos un objeto de la clase perro\n",
    "mi_perro = Perro()\n",
    "\n",
    "type(mi_perro)  # <class '__main__.Perro'>"
   ]
  },
  {
   "cell_type": "markdown",
   "metadata": {},
   "source": [
    "## Definiendo atributos\n",
    "\n",
    "-   _Atributos de instancia:_ Pertenecen a la instancia de la clase o al objeto. Son atributos particulares de cada instancia, en nuestro caso de cada perro.\n",
    "-   _Atributos de clase:_ Se trata de atributos que pertenecen a la clase, por lo tanto serán comunes para todos los objetos.\n"
   ]
  },
  {
   "cell_type": "markdown",
   "metadata": {},
   "source": [
    "El uso de **init** y el doble \\_\\_ no es una coincidencia. Cuando veas un método con esa forma, significa que está reservado para un uso especial del lenguaje. En este caso sería lo que se conoce como constructor, que se ejecuta al crear una nueva instancia de la clase.\n"
   ]
  },
  {
   "cell_type": "code",
   "execution_count": 5,
   "metadata": {},
   "outputs": [
    {
     "name": "stdout",
     "output_type": "stream",
     "text": [
      "Creando perro Toby, Bulldog\n",
      "<class '__main__.Perro'>\n",
      "Toby\n",
      "Bulldog\n"
     ]
    }
   ],
   "source": [
    "class Perro:\n",
    "    # El método __init__ es llamado al crear el objeto\n",
    "    def __init__(self, nombre: str, raza: str) -> None:\n",
    "        print(f\"Creando perro {nombre}, {raza}\")\n",
    "\n",
    "        # Atributos de instancia\n",
    "        self.nombre: str = nombre\n",
    "        self.raza: str = raza\n",
    "\n",
    "\n",
    "# Creamos un objeto de la clase perro\n",
    "mi_perro: Perro = Perro(\"Toby\", \"Bulldog\")\n",
    "print(type(mi_perro))\n",
    "\n",
    "# Podemos acceder a los atributos de instancia\n",
    "print(mi_perro.nombre)  # Toby\n",
    "print(mi_perro.raza)  # Bulldog"
   ]
  },
  {
   "cell_type": "markdown",
   "metadata": {},
   "source": [
    "Hasta ahora hemos definido atributos de instancia, ya que son atributos que pertenecen a cada perro concreto. Ahora vamos a definir un atributo de clase, que será común para todos los perros. Por ejemplo, la especie de los perros es algo común para todos los objetos Perro."
   ]
  },
  {
   "cell_type": "code",
   "execution_count": 7,
   "metadata": {},
   "outputs": [
    {
     "name": "stdout",
     "output_type": "stream",
     "text": [
      "mamífero\n"
     ]
    }
   ],
   "source": [
    "class Perro:\n",
    "    # Atributo de clase\n",
    "    especie: str = 'mamífero'\n",
    "\n",
    "    # El método __init__ es llamado al crear el objeto\n",
    "    def __init__(self, nombre: str, raza: str) -> None:\n",
    "        print(f\"Creando perro {nombre}, {raza}\")\n",
    "\n",
    "        # Atributos de instancia\n",
    "        self.nombre: str = nombre\n",
    "        self.raza: str = raza\n",
    "\n",
    "\n",
    "# Dado que es un atributo de clase, no es necesario crear un objeto para acceder al atributos\n",
    "print(Perro.especie)  # mamífero"
   ]
  },
  {
   "cell_type": "code",
   "execution_count": 8,
   "metadata": {},
   "outputs": [
    {
     "name": "stdout",
     "output_type": "stream",
     "text": [
      "Creando perro Toby, Bulldog\n",
      "mamífero\n"
     ]
    }
   ],
   "source": [
    "# Se puede acceder también al atributo de clase desde el objeto\n",
    "mi_perro: Perro = Perro(\"Toby\", \"Bulldog\")\n",
    "print(mi_perro.especie)  # mamífero"
   ]
  },
  {
   "cell_type": "markdown",
   "metadata": {},
   "source": [
    "## Definiendo métodos\n",
    "\n",
    "Cuando usamos **init** anteriormente ya estábamos definiendo un método, solo que uno especial. A continuación vamos a ver como definir métodos que le den alguna funcionalidad interesante a nuestra clase, siguiendo con el ejemplo de perro.\n",
    "\n",
    "self hace referencia a la instancia de la clase. Se puede definir un método con def y el nombre, y entre () los parámetros de entrada que recibe, donde siempre tendrá que estar self el primero.\n"
   ]
  },
  {
   "cell_type": "code",
   "execution_count": 9,
   "metadata": {},
   "outputs": [
    {
     "name": "stdout",
     "output_type": "stream",
     "text": [
      "Creando perro Toby, Bulldog\n",
      "Guau\n",
      "Caminando 10 pasos\n"
     ]
    }
   ],
   "source": [
    "class Perro:\n",
    "    # Atributo de clase\n",
    "    especie: str = 'mamífero'\n",
    "\n",
    "    # El método __init__ es llamado al crear el objeto\n",
    "    def __init__(self, nombre: str, raza: str) -> None:\n",
    "        print(f\"Creando perro {nombre}, {raza}\")\n",
    "\n",
    "        # Atributos de instancia\n",
    "        self.nombre: str = nombre\n",
    "        self.raza: str = raza\n",
    "\n",
    "    def ladra(self) -> None:\n",
    "        print(\"Guau\")\n",
    "\n",
    "    def camina(self, pasos: int) -> None:\n",
    "        print(f\"Caminando {pasos} pasos\")\n",
    "\n",
    "\n",
    "mi_perro: Perro = Perro(\"Toby\", \"Bulldog\")\n",
    "mi_perro.ladra()  # Guau\n",
    "mi_perro.camina(10)  # Caminando 10 pasos"
   ]
  }
 ],
 "metadata": {
  "kernelspec": {
   "display_name": ".venv",
   "language": "python",
   "name": "python3"
  },
  "language_info": {
   "codemirror_mode": {
    "name": "ipython",
    "version": 3
   },
   "file_extension": ".py",
   "mimetype": "text/x-python",
   "name": "python",
   "nbconvert_exporter": "python",
   "pygments_lexer": "ipython3",
   "version": "3.8.18"
  }
 },
 "nbformat": 4,
 "nbformat_minor": 2
}
