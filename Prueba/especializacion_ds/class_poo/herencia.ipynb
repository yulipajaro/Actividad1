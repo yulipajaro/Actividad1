{
 "cells": [
  {
   "cell_type": "markdown",
   "metadata": {},
   "source": [
    "# Herencia\n",
    "La herencia es un proceso mediante el cual se puede crear una clase hija que hereda de una clase padre, compartiendo sus métodos y atributos. Además de ello, una clase hija puede sobreescribir los métodos o atributos, o incluso definir unos nuevos.\n",
    "\n",
    "Se puede crear una clase hija con tan solo pasar como parámetro la clase de la que queremos heredar. En el siguiente ejemplo vemos como se puede usar la herencia en Python, con la clase Perro que hereda de Animal. Así de fácil."
   ]
  },
  {
   "cell_type": "code",
   "execution_count": 30,
   "metadata": {},
   "outputs": [],
   "source": [
    "# Definimos una clase padre\n",
    "class Animal:\n",
    "    pass\n",
    "\n",
    "# Creamos una clase hija que hereda de la padre\n",
    "class Perro(Animal):\n",
    "    pass"
   ]
  },
  {
   "cell_type": "code",
   "execution_count": 31,
   "metadata": {},
   "outputs": [
    {
     "name": "stdout",
     "output_type": "stream",
     "text": [
      "(<class '__main__.Animal'>,)\n",
      "[<class '__main__.Perro'>]\n"
     ]
    }
   ],
   "source": [
    "print(Perro.__bases__)\n",
    "\n",
    "print(Animal.__subclasses__())"
   ]
  },
  {
   "cell_type": "markdown",
   "metadata": {},
   "source": [
    "## Extendiendo y modificando métodos\n",
    "Vamos a definir una clase padre Animal que tendrá todos los atributos y métodos genéricos que los animales pueden tener.\n",
    "Esta tarea de buscar el denominador común es muy importante en programación. \n",
    "\n",
    "### Atributos:\n",
    "\n",
    "- Tenemos la especie ya que todos los animales pertenecen a una.\n",
    "- Y la edad, ya que todo ser vivo nace, crece, se reproduce y muere.\n",
    "\n",
    "### Métodos o funcionalidades:\n",
    "\n",
    "- Tendremos el método hablar, que cada animal implementará de una forma. Los perros ladran, las abejas zumban y los caballos relinchan.\n",
    "- Un método moverse. Unos animales lo harán caminando, otros volando.\n",
    "- Y por último un método descríbeme que será común."
   ]
  },
  {
   "cell_type": "code",
   "execution_count": 3,
   "metadata": {},
   "outputs": [],
   "source": [
    "class Animal:\n",
    "    def __init__(self, especie: str, edad: int) -> None:\n",
    "        self.especie = especie\n",
    "        self.edad = edad\n",
    "\n",
    "    # Método genérico pero con implementación particular\n",
    "    def hablar(self) -> None:\n",
    "        # Método vacío\n",
    "        pass\n",
    "\n",
    "    # Método genérico pero con implementación particular\n",
    "    def moverse(self) -> None:\n",
    "        # Método vacío\n",
    "        pass\n",
    "\n",
    "    # Método genérico con la misma implementación\n",
    "    def describeme(self) -> None:\n",
    "        print(\"Soy un Animal del tipo\", type(self).__name__)"
   ]
  },
  {
   "cell_type": "markdown",
   "metadata": {},
   "source": [
    "> Aquí es importante aclarar que python permite aplicar la herencia de las clases sin implementar las interfaces, es decir, no es necesario que las clases hijas implementen los métodos de la clase padre."
   ]
  },
  {
   "cell_type": "code",
   "execution_count": 4,
   "metadata": {},
   "outputs": [
    {
     "name": "stdout",
     "output_type": "stream",
     "text": [
      "Soy un Animal del tipo Perro\n"
     ]
    }
   ],
   "source": [
    "# Perro hereda de Animal\n",
    "class Perro(Animal):\n",
    "    pass\n",
    "\n",
    "\n",
    "mi_perro = Perro('mamífero', 10)\n",
    "mi_perro.describeme()\n",
    "# Soy un Animal del tipo Perro"
   ]
  },
  {
   "cell_type": "markdown",
   "metadata": {},
   "source": [
    "Vamos a crear varios animales concretos y sobreescrbir algunos de los métodos que habían sido definidos en la clase Animal, como el hablar o el moverse, ya que cada animal se comporta de una manera distinta.\n",
    "\n",
    "Podemos incluso crear nuevos métodos que se añadirán a los ya heredados, como en el caso de la Abeja con picar()."
   ]
  },
  {
   "cell_type": "code",
   "execution_count": 5,
   "metadata": {},
   "outputs": [],
   "source": [
    "class Perro(Animal):\n",
    "    def hablar(self) -> None:\n",
    "        print(\"Guau!\")\n",
    "\n",
    "    def moverse(self) -> None:\n",
    "        print(\"Caminando con 4 patas\")\n",
    "\n",
    "\n",
    "class Vaca(Animal):\n",
    "    def hablar(self) -> None:\n",
    "        print(\"Muuu!\")\n",
    "\n",
    "    def moverse(self) -> None:\n",
    "        print(\"Caminando con 4 patas\")\n",
    "\n",
    "\n",
    "class Abeja(Animal):\n",
    "    def hablar(self) -> None:\n",
    "        print(\"Bzzzz!\")\n",
    "\n",
    "    def moverse(self) -> None:\n",
    "        print(\"Volando\")\n",
    "\n",
    "    # Nuevo método\n",
    "    def picar(self) -> None:\n",
    "        print(\"Picar!\")"
   ]
  },
  {
   "cell_type": "markdown",
   "metadata": {},
   "source": [
    "Por lo tanto ya podemos crear nuestros objetos de esos animales y hacer uso de sus métodos que podrían clasificarse en tres:\n",
    "\n",
    "- Heredados directamente de la clase padre: describeme()\n",
    "- Heredados de la clase padre pero modificados: hablar() y moverse()\n",
    "- Creados en la clase hija por lo tanto no existentes en la clase padre: picar()"
   ]
  },
  {
   "cell_type": "code",
   "execution_count": 6,
   "metadata": {},
   "outputs": [
    {
     "name": "stdout",
     "output_type": "stream",
     "text": [
      "Guau!\n"
     ]
    }
   ],
   "source": [
    "mi_perro = Perro('mamífero', 10)\n",
    "mi_perro.hablar()\n"
   ]
  },
  {
   "cell_type": "code",
   "execution_count": 7,
   "metadata": {},
   "outputs": [
    {
     "name": "stdout",
     "output_type": "stream",
     "text": [
      "Muuu!\n",
      "Soy un Animal del tipo Vaca\n"
     ]
    }
   ],
   "source": [
    "mi_vaca = Vaca('mamífero', 23)\n",
    "mi_vaca.hablar()\n",
    "mi_vaca.describeme()"
   ]
  },
  {
   "cell_type": "code",
   "execution_count": 8,
   "metadata": {},
   "outputs": [
    {
     "name": "stdout",
     "output_type": "stream",
     "text": [
      "Soy un Animal del tipo Abeja\n",
      "Picar!\n"
     ]
    }
   ],
   "source": [
    "mi_abeja = Abeja('insecto', 1)\n",
    "mi_abeja.describeme()\n",
    "mi_abeja.picar()"
   ]
  },
  {
   "cell_type": "markdown",
   "metadata": {},
   "source": [
    "## Uso de super()\n",
    "\n",
    "* La función super() es una función incorporada en Python que se utiliza para llamar a los métodos de la clase padre. \n",
    "* Es útil en la herencia múltiple, ya que llama a los métodos de la clase padre en el orden en que se definen en la clase hija.\n",
    "* Permite acceder a los métodos de la clase padre desde una de sus hijas. "
   ]
  },
  {
   "cell_type": "code",
   "execution_count": 27,
   "metadata": {},
   "outputs": [],
   "source": [
    "class Animal:\n",
    "    def __init__(self, especie: str, edad: int) -> None:\n",
    "        self.especie = especie\n",
    "        self.edad = edad\n",
    "\n",
    "    # Método genérico pero con implementación particular\n",
    "    def hablar(self) -> None:\n",
    "        # Método vacío\n",
    "        pass\n",
    "\n",
    "    # Método genérico pero con implementación particular\n",
    "    def moverse(self) -> None:\n",
    "        # Método vacío\n",
    "        pass\n",
    "\n",
    "    # Método genérico con la misma implementación\n",
    "    def describeme(self) -> None:\n",
    "        print(\"Soy un Animal del tipo\", type(self).__name__)"
   ]
  },
  {
   "cell_type": "markdown",
   "metadata": {},
   "source": [
    "* Suponiendo que se desee que la clase hija tenga un método que haga algo adicional al método de la clase padre, se puede hacer uso de super() para llamar al método de la clase padre y luego agregar la funcionalidad adicional.\n",
    "* En caso de querer agregar un parámetro extra en el constructor del Perro obtener el color, especie y edad, existen dos alternativas:\n",
    "1. Crear un nuevo `__init__` y guarar todas las variables.\n",
    "2. Como ya la clase padre acepta la especie y la edad, se puede hacer uso de super() para llamar al constructor de la clase padre y luego agregar el parámetro extra."
   ]
  },
  {
   "cell_type": "code",
   "execution_count": 9,
   "metadata": {},
   "outputs": [],
   "source": [
    "class Perro(Animal):\n",
    "    # Alternativa 1\n",
    "    def __init__(self, especie: str, edad: int, color: str) -> None:\n",
    "        self.especie = especie\n",
    "        self.edad = edad\n",
    "        self.color = color"
   ]
  },
  {
   "cell_type": "code",
   "execution_count": 11,
   "metadata": {},
   "outputs": [
    {
     "name": "stdout",
     "output_type": "stream",
     "text": [
      "mamífero 7 Luis\n"
     ]
    }
   ],
   "source": [
    "mi_perro = Perro('mamífero', 7, 'Luis')\n",
    "print(mi_perro.especie, mi_perro.edad, mi_perro.color)"
   ]
  },
  {
   "cell_type": "code",
   "execution_count": 18,
   "metadata": {},
   "outputs": [],
   "source": [
    "class Perro(Animal):\n",
    "    # Alternativa 2\n",
    "    def __init__(self, especie: str, edad: int, color: str) -> None:\n",
    "        super().__init__(especie=especie, edad=edad)\n",
    "        self.color = color"
   ]
  },
  {
   "cell_type": "code",
   "execution_count": 19,
   "metadata": {},
   "outputs": [
    {
     "name": "stdout",
     "output_type": "stream",
     "text": [
      "mamífero 7 Luis\n"
     ]
    }
   ],
   "source": [
    "mi_perro = Perro('mamífero', 7, 'Luis')\n",
    "print(mi_perro.especie, mi_perro.edad, mi_perro.color)"
   ]
  },
  {
   "cell_type": "markdown",
   "metadata": {},
   "source": [
    "Entonces, aquí nos podemos preguntar, qué pasa si sobreescribo un método y no uso super() para llamar al método de la clase padre. La respuesta es que el método de la clase padre no se ejecutará, por lo que se perderá la funcionalidad que este aporta."
   ]
  },
  {
   "cell_type": "code",
   "execution_count": 14,
   "metadata": {},
   "outputs": [],
   "source": [
    "class Perro(Animal):\n",
    "    # Alternativa 3\n",
    "    def __init__(self, especie: str, edad: int, color: str) -> None:\n",
    "        self.color = color"
   ]
  },
  {
   "cell_type": "code",
   "execution_count": 15,
   "metadata": {},
   "outputs": [
    {
     "ename": "AttributeError",
     "evalue": "'Perro' object has no attribute 'especie'",
     "output_type": "error",
     "traceback": [
      "\u001b[0;31m---------------------------------------------------------------------------\u001b[0m",
      "\u001b[0;31mAttributeError\u001b[0m                            Traceback (most recent call last)",
      "Cell \u001b[0;32mIn[15], line 2\u001b[0m\n\u001b[1;32m      1\u001b[0m mi_perro \u001b[38;5;241m=\u001b[39m Perro(\u001b[38;5;124m'\u001b[39m\u001b[38;5;124mmamífero\u001b[39m\u001b[38;5;124m'\u001b[39m, \u001b[38;5;241m7\u001b[39m, \u001b[38;5;124m'\u001b[39m\u001b[38;5;124mLuis\u001b[39m\u001b[38;5;124m'\u001b[39m)\n\u001b[0;32m----> 2\u001b[0m \u001b[38;5;28mprint\u001b[39m(\u001b[43mmi_perro\u001b[49m\u001b[38;5;241;43m.\u001b[39;49m\u001b[43mespecie\u001b[49m, mi_perro\u001b[38;5;241m.\u001b[39medad, mi_perro\u001b[38;5;241m.\u001b[39mcolor)\n",
      "\u001b[0;31mAttributeError\u001b[0m: 'Perro' object has no attribute 'especie'"
     ]
    }
   ],
   "source": [
    "mi_perro = Perro('mamífero', 7, 'Luis')\n",
    "print(mi_perro.especie, mi_perro.edad, mi_perro.color)"
   ]
  },
  {
   "cell_type": "markdown",
   "metadata": {},
   "source": [
    "## Herencia múltiple\n",
    "- Python permite la herencia múltiple, es decir, una clase puede heredar de varias clases a la vez. Esto se hace pasando como parámetros todas las clases de las que se quiere heredar, separadas por comas.\n",
    "- La herencia múltiple es una característica muy potente, pero también puede ser peligrosa si no se usa con cuidado. Por ejemplo, si dos clases de las que hereda la clase hija tienen un método con el mismo nombre, se ejecutará el método de la primera clase que se haya pasado como parámetro.\n",
    "- La forma de saber a que método se llama es consultar el MRO o Method Order Resolution. Esta función nos devuelve una tupla con el orden de búsqueda de los métodos. Como era de esperar se empieza en la propia clase y se va subiendo hasta la clase padre, de izquierda a derecha."
   ]
  },
  {
   "cell_type": "code",
   "execution_count": 24,
   "metadata": {},
   "outputs": [
    {
     "name": "stdout",
     "output_type": "stream",
     "text": [
      "(<class '__main__.Clase1'>, <class '__main__.Clase2'>)\n",
      "[<class '__main__.Clase3'>]\n",
      "(<class '__main__.Clase3'>, <class '__main__.Clase1'>, <class '__main__.Clase2'>, <class 'object'>)\n"
     ]
    }
   ],
   "source": [
    "class Clase1:\n",
    "    pass\n",
    "class Clase2:\n",
    "    pass\n",
    "class Clase3(Clase1, Clase2):\n",
    "    pass\n",
    "\n",
    "print(Clase3.__bases__)\n",
    "print(Clase1.__subclasses__())\n",
    "print(Clase3.__mro__)"
   ]
  },
  {
   "cell_type": "code",
   "execution_count": 25,
   "metadata": {},
   "outputs": [
    {
     "name": "stdout",
     "output_type": "stream",
     "text": [
      "(<class '__main__.Clase2'>,)\n",
      "(<class '__main__.Clase1'>,)\n",
      "(<class '__main__.Clase3'>, <class '__main__.Clase2'>, <class '__main__.Clase1'>, <class 'object'>)\n"
     ]
    }
   ],
   "source": [
    "class Clase1:\n",
    "    pass\n",
    "class Clase2(Clase1):\n",
    "    pass\n",
    "class Clase3(Clase2):\n",
    "    pass\n",
    "\n",
    "print(Clase3.__bases__)\n",
    "print(Clase2.__bases__)\n",
    "print(Clase3.__mro__)"
   ]
  },
  {
   "cell_type": "markdown",
   "metadata": {},
   "source": [
    "## Ejemplo diapositivas"
   ]
  },
  {
   "cell_type": "markdown",
   "metadata": {},
   "source": [
    "## Definimos una clase llamada Animal\n",
    "- Las clases son plantillas para crear objetos.\n",
    "- Un objeto es una instancia de una clase.\n",
    "- Cualquier Animal que creemos será un objeto de la clase Animal.\n",
    "- La clase Animal tiene un método especial llamado `__init__` que se utiliza para inicializar los objetos que se crean a partir de esta clase.\n",
    "- En este caso, cada Animal tiene un atributo name que se establece cuando se crea el objeto."
   ]
  },
  {
   "cell_type": "code",
   "execution_count": 35,
   "metadata": {},
   "outputs": [],
   "source": [
    "class Animal:\n",
    "    def __init__(self, name: str) -> None:\n",
    "        self.name = name"
   ]
  },
  {
   "cell_type": "markdown",
   "metadata": {},
   "source": [
    "- Una *Interfaz* define métodos que no tienen implementación, nos referimos a que la interfaz declara los métodos, pero no proporciona un cuerpo para estos métodos.\n",
    "- La interfaz dice qué métodos deben existir, pero no dice qué deben hacer estos métodos.\n",
    "- La Interfaz nos dice qué métodos deben implementarse, pero no cómo deben implementarse.\n",
    "- En este caso, OxygenBreather es una interfaz que define un método llamado breathe.\n",
    "- Sin embargo, el método breathe no tiene un cuerpo; simplemente pasa. Esto significa que no hace nada por sí mismo.\n",
    "- Cuando una clase implementa una interfaz, esa clase está haciendo una promesa de que proporcionará una implementación para todos los métodos definidos en la interfaz.\n",
    "- La clase que implementa la interfaz debe proporcionar un cuerpo para cada uno de los métodos de la interfaz."
   ]
  },
  {
   "cell_type": "code",
   "execution_count": 32,
   "metadata": {},
   "outputs": [],
   "source": [
    "# Interfaces\n",
    "class OxygenBreather:\n",
    "    def breathe(self) -> None:\n",
    "        pass"
   ]
  },
  {
   "cell_type": "markdown",
   "metadata": {},
   "source": [
    "En este caso, `FourLegged` define un método `run` que toma un parámetro destination. Cualquier clase que implemente esta interfaz deberá proporcionar una implementación para este método."
   ]
  },
  {
   "cell_type": "code",
   "execution_count": null,
   "metadata": {},
   "outputs": [],
   "source": [
    "class FourLegged:\n",
    "    def run(self, destination: str) -> None:\n",
    "        pass"
   ]
  },
  {
   "cell_type": "markdown",
   "metadata": {},
   "source": [
    "- Aquí definimos una clase Cat que hereda de Animal e implementa las interfaces FourLegged y OxygenBreather.\n",
    "- Esto se llama herencia múltiple.\n",
    "- Cat es ahora una subclase de Animal, FourLegged, y OxygenBreather, y hereda todos sus atributos y métodos.\n",
    "- Cat debe definir un método `breathe` porque implementa la interfaz OxygenBreather.\n",
    "- Cat también debe definir un método `run` porque implementa la interfaz FourLegged."
   ]
  },
  {
   "cell_type": "code",
   "execution_count": 42,
   "metadata": {},
   "outputs": [],
   "source": [
    "class Cat(Animal, FourLegged, OxygenBreather):\n",
    "\n",
    "    def __init__(self, name: str) -> None:\n",
    "        super().__init__(name)\n",
    "\n",
    "    def breathe(self) -> str:\n",
    "        text = f\"El gato {self.name} respira oxígeno\"\n",
    "        return text\n",
    "\n",
    "    def run(self, destination: str) -> None:\n",
    "        print(f\"El gato {self.name} corre hacia {destination}\")"
   ]
  },
  {
   "cell_type": "code",
   "execution_count": 43,
   "metadata": {},
   "outputs": [
    {
     "name": "stdout",
     "output_type": "stream",
     "text": [
      "El gato Tom corre hacia el parque\n"
     ]
    },
    {
     "data": {
      "text/plain": [
       "'El gato Tom respira oxígeno'"
      ]
     },
     "execution_count": 43,
     "metadata": {},
     "output_type": "execute_result"
    }
   ],
   "source": [
    "# Crear una instancia de la clase Cat y asignarle un nombre\n",
    "my_cat = Cat(\"Tom\")\n",
    "\n",
    "# Llamar a los métodos de las interfaces\n",
    "my_cat.run(\"el parque\")\n",
    "my_cat.breathe()"
   ]
  },
  {
   "cell_type": "code",
   "execution_count": 44,
   "metadata": {},
   "outputs": [],
   "source": [
    "# Test unitario correcto\n",
    "assert my_cat.breathe() == \"El gato Tom respira oxígeno\""
   ]
  },
  {
   "cell_type": "code",
   "execution_count": 45,
   "metadata": {},
   "outputs": [
    {
     "ename": "AssertionError",
     "evalue": "",
     "output_type": "error",
     "traceback": [
      "\u001b[0;31m---------------------------------------------------------------------------\u001b[0m",
      "\u001b[0;31mAssertionError\u001b[0m                            Traceback (most recent call last)",
      "Cell \u001b[0;32mIn[45], line 2\u001b[0m\n\u001b[1;32m      1\u001b[0m \u001b[38;5;66;03m# Test unitario errado\u001b[39;00m\n\u001b[0;32m----> 2\u001b[0m \u001b[38;5;28;01massert\u001b[39;00m my_cat\u001b[38;5;241m.\u001b[39mbreathe() \u001b[38;5;241m==\u001b[39m \u001b[38;5;124m\"\u001b[39m\u001b[38;5;124mEl gato Tomx respira oxígeno\u001b[39m\u001b[38;5;124m\"\u001b[39m\n",
      "\u001b[0;31mAssertionError\u001b[0m: "
     ]
    }
   ],
   "source": [
    "# Test unitario errado\n",
    "assert my_cat.breathe() == \"El gato Tomx respira oxígeno\""
   ]
  },
  {
   "cell_type": "markdown",
   "metadata": {},
   "source": [
    "Según la teoría, si una clase implementa una interfaz, esa clase debe proporcionar una implementación para todos los métodos definidos en la interfaz. En este caso, Horse implementa la interfaz FourLegged, por lo que debe proporcionar una implementación para el método run, de lo contrario, Python arrojará un error, pero no lo hace. Esto sucede porque Python no tiene interfaces reales. En Python, las interfaces son solo una convención. Adicionalmente, Python no tiene una palabra clave `implements` como Java. En Python, una clase simplemente proporciona una implementación para un método, y eso es todo. No hay una relación formal entre una clase y una interfaz."
   ]
  },
  {
   "cell_type": "code",
   "execution_count": 46,
   "metadata": {},
   "outputs": [],
   "source": [
    "class Horse(Animal, FourLegged, OxygenBreather):\n",
    "\n",
    "    def __init__(self, name: str) -> None:\n",
    "        super().__init__(name)\n",
    "\n",
    "    def breathe(self) -> str:\n",
    "        text = f\"El caballo {self.name} respira oxígeno\"\n",
    "        return text"
   ]
  },
  {
   "cell_type": "code",
   "execution_count": 53,
   "metadata": {},
   "outputs": [
    {
     "data": {
      "text/plain": [
       "'El caballo Spirit respira oxígeno'"
      ]
     },
     "execution_count": 53,
     "metadata": {},
     "output_type": "execute_result"
    }
   ],
   "source": [
    "my_horse = Horse(\"Spirit\")\n",
    "my_horse.run(\"el establo\")\n",
    "my_horse.breathe()"
   ]
  },
  {
   "cell_type": "markdown",
   "metadata": {},
   "source": [
    "Para que Python arroje un error cuando una clase no proporciona una implementación para un método definido en una interfaz, podemos usar un módulo llamado `abc` (Abstract Base Classes). Este módulo proporciona una clase llamada `ABC` que se puede usar para definir interfaces."
   ]
  },
  {
   "cell_type": "code",
   "execution_count": 47,
   "metadata": {},
   "outputs": [],
   "source": [
    "from abc import ABC, abstractmethod\n",
    "\n",
    "\n",
    "class Animal(ABC):\n",
    "    def __init__(self, name: str) -> None:\n",
    "        self.name = name\n",
    "\n",
    "\n",
    "class FourLegged(ABC):\n",
    "    @abstractmethod\n",
    "    def run(self, destination: str) -> None:\n",
    "        pass\n",
    "\n",
    "\n",
    "class OxygenBreather(ABC):\n",
    "    @abstractmethod\n",
    "    def breathe(self) -> None:\n",
    "        pass"
   ]
  },
  {
   "cell_type": "code",
   "execution_count": 49,
   "metadata": {},
   "outputs": [],
   "source": [
    "class Dog(Animal, FourLegged, OxygenBreather):\n",
    "    def __init__(self, name: str) -> None:\n",
    "        super().__init__(name)\n",
    "\n",
    "    def breathe(self) -> str:\n",
    "        text = f\"El perro {self.name} respira oxígeno\"\n",
    "        return text"
   ]
  },
  {
   "cell_type": "code",
   "execution_count": 50,
   "metadata": {},
   "outputs": [
    {
     "ename": "TypeError",
     "evalue": "Can't instantiate abstract class Dog with abstract method run",
     "output_type": "error",
     "traceback": [
      "\u001b[0;31m---------------------------------------------------------------------------\u001b[0m",
      "\u001b[0;31mTypeError\u001b[0m                                 Traceback (most recent call last)",
      "Cell \u001b[0;32mIn[50], line 1\u001b[0m\n\u001b[0;32m----> 1\u001b[0m my_dog \u001b[38;5;241m=\u001b[39m \u001b[43mDog\u001b[49m\u001b[43m(\u001b[49m\u001b[38;5;124;43m\"\u001b[39;49m\u001b[38;5;124;43mKatara\u001b[39;49m\u001b[38;5;124;43m\"\u001b[39;49m\u001b[43m)\u001b[49m\n",
      "\u001b[0;31mTypeError\u001b[0m: Can't instantiate abstract class Dog with abstract method run"
     ]
    }
   ],
   "source": [
    "my_dog = Dog(\"Katara\")"
   ]
  }
 ],
 "metadata": {
  "kernelspec": {
   "display_name": ".venv",
   "language": "python",
   "name": "python3"
  },
  "language_info": {
   "codemirror_mode": {
    "name": "ipython",
    "version": 3
   },
   "file_extension": ".py",
   "mimetype": "text/x-python",
   "name": "python",
   "nbconvert_exporter": "python",
   "pygments_lexer": "ipython3",
   "version": "3.11.7"
  }
 },
 "nbformat": 4,
 "nbformat_minor": 2
}
