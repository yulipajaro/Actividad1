{
 "cells": [
  {
   "cell_type": "markdown",
   "metadata": {},
   "source": [
    "# Interfaces\n",
    "- Define al conjunto de métodos que debe tener un objeto para que pueda cumplir una determinada.\n",
    "\n",
    "- Define como se comporta un objeto y lo que se puede hacer con él.\n",
    "\n",
    "- No poseen una implementación per se, es decir, no llevan código asociado. El interfaz se centra en el qué y no en el cómo.\n",
    "\n",
    "- Una clase implementa una interfaz, cuando añade código a los métodos que no lo tenían (denominados abstractos).\n",
    "\n",
    "- Implementar un interfaz consiste en pasar del qué se hace al cómo se hace.\n",
    "\n",
    "- Python no posee la palabra reservada `interface`, pero se puede simular su comportamiento mediante clases abstractas.\n",
    "\n",
    "- Existen dos formas de definir interfaces en Python:\n",
    "    - Interfaces informales\n",
    "    - Interfaces formales\n"
   ]
  },
  {
   "cell_type": "markdown",
   "metadata": {},
   "source": [
    "## Ejemplo de interfaz control tv\n",
    "- Un control de televisor. Todos los controles nos ofrecen la misma interfaz con las mismas funcionalidades o métodos.\n",
    "\n",
    "- Los controles de Samsung y LG implementan la interfaz Mando.\n",
    "\n",
    "- Ambos tienen los métodos definidos, pero con implementaciones diferentes.\n",
    "\n",
    "- Esto es debido a que cada empresa resuelve el mismo problema con un enfoque diferente, a pesar de eso, lo que se ve en el exterior es lo mismo.\n"
   ]
  },
  {
   "cell_type": "markdown",
   "metadata": {},
   "source": [
    "## Interfaces informales\n",
    "- Pueden ser definidos con una simple clase que no implementa los métodos"
   ]
  },
  {
   "cell_type": "code",
   "execution_count": 9,
   "metadata": {},
   "outputs": [],
   "source": [
    "class ControlTv:\n",
    "    def subir_volumen(self) -> None:\n",
    "        pass\n",
    "\n",
    "    def bajar_volumen(self) -> None:\n",
    "        pass\n",
    "\n",
    "    def siguiente_canal(self) -> None:\n",
    "        pass\n",
    "\n",
    "    def anterior_canal(self) -> None:\n",
    "        pass"
   ]
  },
  {
   "cell_type": "markdown",
   "metadata": {},
   "source": [
    "Una vez definida la interfas informal, se puede usar en otra clase mediante la herencia."
   ]
  },
  {
   "cell_type": "code",
   "execution_count": 10,
   "metadata": {},
   "outputs": [],
   "source": [
    "class ControlSamsung(ControlTv):\n",
    "    def siguiente_canal(self) -> None:\n",
    "        print(\"Samsung->Siguiente\")\n",
    "\n",
    "    def canal_anterior(self) -> None:\n",
    "        print(\"Samsung->Anterior\")\n",
    "\n",
    "    def subir_volumen(self) -> None:\n",
    "        print(\"Samsung->Subir\")\n",
    "\n",
    "    def bajar_volumen(self) -> None:\n",
    "        print(\"Samsung->Bajar\")"
   ]
  },
  {
   "cell_type": "code",
   "execution_count": 12,
   "metadata": {},
   "outputs": [
    {
     "name": "stdout",
     "output_type": "stream",
     "text": [
      "Samsung->Siguiente\n",
      "Samsung->Anterior\n"
     ]
    },
    {
     "ename": "TypeError",
     "evalue": "ControlSamsung.subir_volumen() takes 1 positional argument but 2 were given",
     "output_type": "error",
     "traceback": [
      "\u001b[0;31m---------------------------------------------------------------------------\u001b[0m",
      "\u001b[0;31mTypeError\u001b[0m                                 Traceback (most recent call last)",
      "Cell \u001b[0;32mIn[12], line 4\u001b[0m\n\u001b[1;32m      2\u001b[0m control_samsung\u001b[38;5;241m.\u001b[39msiguiente_canal()\n\u001b[1;32m      3\u001b[0m control_samsung\u001b[38;5;241m.\u001b[39mcanal_anterior()\n\u001b[0;32m----> 4\u001b[0m \u001b[43mcontrol_samsung\u001b[49m\u001b[38;5;241;43m.\u001b[39;49m\u001b[43msubir_volumen\u001b[49m\u001b[43m(\u001b[49m\u001b[38;5;124;43m\"\u001b[39;49m\u001b[38;5;124;43mhola\u001b[39;49m\u001b[38;5;124;43m\"\u001b[39;49m\u001b[43m)\u001b[49m\n",
      "\u001b[0;31mTypeError\u001b[0m: ControlSamsung.subir_volumen() takes 1 positional argument but 2 were given"
     ]
    }
   ],
   "source": [
    "control_samsung = ControlSamsung()\n",
    "control_samsung.siguiente_canal()\n",
    "control_samsung.canal_anterior()\n",
    "control_samsung.subir_volumen()"
   ]
  },
  {
   "cell_type": "code",
   "execution_count": 4,
   "metadata": {},
   "outputs": [],
   "source": [
    "class ControlLG(ControlTv):\n",
    "    def siguiente_canal(self) -> None:\n",
    "        print(\"LG->Siguiente\")\n",
    "\n",
    "    def canal_anterior(self) -> None:\n",
    "        print(\"LG->Anterior\")\n",
    "\n",
    "    def subir_volumen(self) -> None:\n",
    "        print(\"LG->Subir\")\n",
    "\n",
    "    def bajar_volumen(self) -> None:\n",
    "        print(\"LG->Bajar\")"
   ]
  },
  {
   "cell_type": "code",
   "execution_count": 6,
   "metadata": {},
   "outputs": [
    {
     "name": "stdout",
     "output_type": "stream",
     "text": [
      "LG->Siguiente\n"
     ]
    }
   ],
   "source": [
    "control_lg = ControlLG()\n",
    "control_lg.siguiente_canal()"
   ]
  },
  {
   "cell_type": "markdown",
   "metadata": {},
   "source": [
    "Esta es una forma de definir interfaces en Python, pero no es la más recomendada, ya que no se puede garantizar que los métodos de la interfaz se implementen en la clase que la hereda. Es decir, no se obliga a la clase `ControlSamsung` o `ControlLG` a implementar los métodos de la interfaz `ControlTv`."
   ]
  },
  {
   "cell_type": "markdown",
   "metadata": {},
   "source": [
    "Esto es un gran problema, ya que, si un método de la interfaz no es implementado en la clase que la hereda, se producirá un error en tiempo de ejecución. Lo cual se puede evitar si se usan las interfaces formales."
   ]
  },
  {
   "cell_type": "code",
   "execution_count": 9,
   "metadata": {},
   "outputs": [],
   "source": [
    "class ControlTv:\n",
    "    def subir_volumen(self) -> None:\n",
    "        raise NotImplementedError(\"Método no implementado\")\n",
    "\n",
    "    def bajar_volumen(self) -> None:\n",
    "        raise NotImplementedError(\"Método no implementado\")\n",
    "\n",
    "    def siguiente_canal(self) -> None:\n",
    "        raise NotImplementedError(\"Método no implementado\")\n",
    "\n",
    "    def anterior_canal(self) -> None:\n",
    "        raise NotImplementedError(\"Método no implementado\")"
   ]
  },
  {
   "cell_type": "code",
   "execution_count": 10,
   "metadata": {},
   "outputs": [],
   "source": [
    "class ControlLG(ControlTv):\n",
    "\n",
    "    def canal_anterior(self) -> None:\n",
    "        print(\"LG->Anterior\")\n",
    "\n",
    "    def subir_volumen(self) -> None:\n",
    "        print(\"LG->Subir\")\n",
    "\n",
    "    def bajar_volumen(self) -> None:\n",
    "        print(\"LG->Bajar\")"
   ]
  },
  {
   "cell_type": "code",
   "execution_count": 11,
   "metadata": {},
   "outputs": [
    {
     "ename": "NotImplementedError",
     "evalue": "Método no implementado",
     "output_type": "error",
     "traceback": [
      "\u001b[0;31m---------------------------------------------------------------------------\u001b[0m",
      "\u001b[0;31mNotImplementedError\u001b[0m                       Traceback (most recent call last)",
      "Cell \u001b[0;32mIn[11], line 2\u001b[0m\n\u001b[1;32m      1\u001b[0m control_lg \u001b[38;5;241m=\u001b[39m ControlLG()\n\u001b[0;32m----> 2\u001b[0m \u001b[43mcontrol_lg\u001b[49m\u001b[38;5;241;43m.\u001b[39;49m\u001b[43msiguiente_canal\u001b[49m\u001b[43m(\u001b[49m\u001b[43m)\u001b[49m\n",
      "Cell \u001b[0;32mIn[9], line 9\u001b[0m, in \u001b[0;36mControlTv.siguiente_canal\u001b[0;34m(self)\u001b[0m\n\u001b[1;32m      8\u001b[0m \u001b[38;5;28;01mdef\u001b[39;00m \u001b[38;5;21msiguiente_canal\u001b[39m(\u001b[38;5;28mself\u001b[39m) \u001b[38;5;241m-\u001b[39m\u001b[38;5;241m>\u001b[39m \u001b[38;5;28;01mNone\u001b[39;00m:\n\u001b[0;32m----> 9\u001b[0m     \u001b[38;5;28;01mraise\u001b[39;00m \u001b[38;5;167;01mNotImplementedError\u001b[39;00m(\u001b[38;5;124m\"\u001b[39m\u001b[38;5;124mMétodo no implementado\u001b[39m\u001b[38;5;124m\"\u001b[39m)\n",
      "\u001b[0;31mNotImplementedError\u001b[0m: Método no implementado"
     ]
    }
   ],
   "source": [
    "control_lg = ControlLG()\n",
    "control_lg.siguiente_canal()"
   ]
  },
  {
   "cell_type": "markdown",
   "metadata": {},
   "source": [
    "## Interfaces formales\n",
    "- Se pueden definir mediante clases abstractas.\n",
    "- Los interfaces formales pueden ser definidos en Python utilizando el módulo por defecto llamado ABC (Abstract Base Classes)\n",
    "- Definen una forma de crear interfaces (a través de metaclases) en los que se definen unos métodos (pero no se implementan) y donde se fuerza a las clases que usan ese interfaz a implementar los métodos. Veamos unos ejemplos.\n",
    "- Se usa el decorador `@abstractmethod` para definir un método abstracto.\n",
    "- Un método abstracto es un método que no tiene implementación, es decir, no tiene código asociado.\n",
    "- Un método definido con `@abstractmethod` en una clase abstracta, forzará a las clases que la hereden a implementar dicho método."
   ]
  },
  {
   "cell_type": "code",
   "execution_count": 12,
   "metadata": {},
   "outputs": [],
   "source": [
    "from abc import ABC, abstractmethod\n",
    "\n",
    "\n",
    "class ControlTv(ABC):\n",
    "    @abstractmethod\n",
    "    def subir_volumen(self) -> None:\n",
    "        pass\n",
    "\n",
    "    @abstractmethod\n",
    "    def bajar_volumen(self) -> None:\n",
    "        pass\n",
    "\n",
    "    @abstractmethod\n",
    "    def siguiente_canal(self) -> None:\n",
    "        pass\n",
    "\n",
    "    @abstractmethod\n",
    "    def anterior_canal(self) -> None:\n",
    "        pass"
   ]
  },
  {
   "cell_type": "markdown",
   "metadata": {},
   "source": [
    "### No se puede crear un objeto de una clase interfaz, ya que sus métodos no están implementados"
   ]
  },
  {
   "cell_type": "code",
   "execution_count": 13,
   "metadata": {},
   "outputs": [
    {
     "ename": "TypeError",
     "evalue": "Can't instantiate abstract class ControlTv with abstract methods anterior_canal, bajar_volumen, siguiente_canal, subir_volumen",
     "output_type": "error",
     "traceback": [
      "\u001b[0;31m---------------------------------------------------------------------------\u001b[0m",
      "\u001b[0;31mTypeError\u001b[0m                                 Traceback (most recent call last)",
      "Cell \u001b[0;32mIn[13], line 1\u001b[0m\n\u001b[0;32m----> 1\u001b[0m control \u001b[38;5;241m=\u001b[39m \u001b[43mControlTv\u001b[49m\u001b[43m(\u001b[49m\u001b[43m)\u001b[49m\n",
      "\u001b[0;31mTypeError\u001b[0m: Can't instantiate abstract class ControlTv with abstract methods anterior_canal, bajar_volumen, siguiente_canal, subir_volumen"
     ]
    }
   ],
   "source": [
    "control = ControlTv()"
   ]
  },
  {
   "cell_type": "markdown",
   "metadata": {},
   "source": [
    "Ahora crearemos las clases `ControlSamsung` y `ControlLG` que implementan la interfaz `ControlTv`.\n",
    "Es muy importante que implementemos todos los métodos, o de lo contrario tendremos un error. Esta es una de las diferencias con respecto a los interfaces informales."
   ]
  },
  {
   "cell_type": "code",
   "execution_count": 14,
   "metadata": {},
   "outputs": [],
   "source": [
    "class ControlSamsung(ControlTv):\n",
    "    def siguiente_canal(self) -> None:\n",
    "        print(\"Samsung->Siguiente\")\n",
    "\n",
    "    def canal_anterior(self) -> None:\n",
    "        print(\"Samsung->Anterior\")\n",
    "\n",
    "    def subir_volumen(self) -> None:\n",
    "        print(\"Samsung->Subir\")"
   ]
  },
  {
   "cell_type": "code",
   "execution_count": 15,
   "metadata": {},
   "outputs": [
    {
     "ename": "TypeError",
     "evalue": "Can't instantiate abstract class ControlSamsung with abstract methods anterior_canal, bajar_volumen",
     "output_type": "error",
     "traceback": [
      "\u001b[0;31m---------------------------------------------------------------------------\u001b[0m",
      "\u001b[0;31mTypeError\u001b[0m                                 Traceback (most recent call last)",
      "Cell \u001b[0;32mIn[15], line 1\u001b[0m\n\u001b[0;32m----> 1\u001b[0m control_samsung \u001b[38;5;241m=\u001b[39m \u001b[43mControlSamsung\u001b[49m\u001b[43m(\u001b[49m\u001b[43m)\u001b[49m\n",
      "\u001b[0;31mTypeError\u001b[0m: Can't instantiate abstract class ControlSamsung with abstract methods anterior_canal, bajar_volumen"
     ]
    }
   ],
   "source": [
    "control_samsung = ControlSamsung()"
   ]
  },
  {
   "cell_type": "markdown",
   "metadata": {},
   "source": [
    "---"
   ]
  },
  {
   "cell_type": "code",
   "execution_count": 18,
   "metadata": {},
   "outputs": [],
   "source": [
    "class ControlSamsung(ControlTv):\n",
    "    def siguiente_canal(self) -> None:\n",
    "        print(\"Samsung->Siguiente\")\n",
    "\n",
    "    def anterior_canal(self) -> None:\n",
    "        print(\"Samsung->Anterior\")\n",
    "\n",
    "    def subir_volumen(self) -> None:\n",
    "        print(\"Samsung->Subir\")\n",
    "\n",
    "    def bajar_volumen(self) -> None:\n",
    "        print(\"Samsung->Bajar\")"
   ]
  },
  {
   "cell_type": "code",
   "execution_count": 5,
   "metadata": {},
   "outputs": [
    {
     "name": "stdout",
     "output_type": "stream",
     "text": [
      "Samsung->Siguiente\n"
     ]
    }
   ],
   "source": [
    "control_samsung = ControlSamsung()\n",
    "control_samsung.siguiente_canal()"
   ]
  },
  {
   "cell_type": "code",
   "execution_count": 6,
   "metadata": {},
   "outputs": [],
   "source": [
    "class ControlLG(ControlTv):\n",
    "    def siguiente_canal(self) -> None:\n",
    "        print(\"LG->Siguiente\")\n",
    "\n",
    "    def anterior_canal(self) -> None:\n",
    "        print(\"LG->Anterior\")\n",
    "\n",
    "    def subir_volumen(self) -> None:\n",
    "        print(\"LG->Subir\")\n",
    "\n",
    "    def bajar_volumen(self) -> None:\n",
    "        print(\"LG->Bajar\")"
   ]
  },
  {
   "cell_type": "code",
   "execution_count": 8,
   "metadata": {},
   "outputs": [
    {
     "name": "stdout",
     "output_type": "stream",
     "text": [
      "LG->Siguiente\n",
      "LG->Bajar\n"
     ]
    }
   ],
   "source": [
    "control_lg = ControlLG()\n",
    "control_lg.siguiente_canal()\n",
    "control_lg.bajar_volumen()"
   ]
  },
  {
   "cell_type": "markdown",
   "metadata": {},
   "source": [
    "## Conclusión\n",
    "- Las interfaces son una forma de definir un contrato entre clases.\n",
    "- Las interfaces informales no garantizan que los métodos de la interfaz se implementen en la clase que la hereda.\n",
    "- La interfaz se trata de una clase que define el comportamiento de un objeto sin centrarse en los detalles de cómo funciona. Se centra en el qué y no en el cómo.\n",
    "- Las clases que implementan una interfaz, se encargan de añadir código a los métodos que no lo tenían (denominados abstractos). Las clases representan el cómo se hace."
   ]
  }
 ],
 "metadata": {
  "kernelspec": {
   "display_name": ".venv",
   "language": "python",
   "name": "python3"
  },
  "language_info": {
   "codemirror_mode": {
    "name": "ipython",
    "version": 3
   },
   "file_extension": ".py",
   "mimetype": "text/x-python",
   "name": "python",
   "nbconvert_exporter": "python",
   "pygments_lexer": "ipython3",
   "version": "3.11.7"
  }
 },
 "nbformat": 4,
 "nbformat_minor": 2
}
